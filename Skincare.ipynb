{
 "cells": [
  {
   "cell_type": "code",
   "execution_count": 18,
   "id": "5c7651f9-d9bf-4593-b9a4-b19f6175c270",
   "metadata": {},
   "outputs": [],
   "source": [
    "import pandas as pd"
   ]
  },
  {
   "cell_type": "code",
   "execution_count": 19,
   "id": "7a02248d-07f5-4487-9035-e1ee06418871",
   "metadata": {},
   "outputs": [],
   "source": [
    "# Data bahan skincare cocok untuk tiap tipe kulit\n",
    "skincare_cocok = {\n",
    "    'Sensitif': ['Microbiome Technology', 'Vitamin B12', 'Hyaluronic Acid', 'Ceramid', 'Niacinamide', 'Aloe Vera', 'Mugwort', 'Ginseng', 'Panthenol', 'Allantoin', 'Lactic Acid', 'Azelaic Acid', 'Centella Asiatica'],\n",
    "    'Berminyak': ['Glycolic Acid', 'Hyaluronic Acid', 'Aloe Vera', 'Glycerin', 'Ceramide', 'Dimethicone', 'Retinol', 'Salicylic Acid', 'Niacinamide', 'D-panthenol'],\n",
    "    'Kering': ['Glycolic Acid', 'Lactic Acid', 'Aloe Vera Extract', 'Ceramide', 'Hyaluronic Acid'],\n",
    "    'Normal': ['Panthenol', 'Algae Extract', 'Dimethicone', 'Hyaluronic Acid'],\n",
    "    'Kombinasi': ['Salicylic Acid', 'Silica', 'Niacinamide', 'Aloe Vera Extract', 'Glycerin', 'Hyaluronic Acid'],\n",
    "    'Berjerawat': ['Retinol', 'Benzoyl Peroxide', 'AHA', 'BHA']\n",
    "}"
   ]
  },
  {
   "cell_type": "code",
   "execution_count": 20,
   "id": "cf68ab22-4da8-41be-9b26-1d7ab9ebaacd",
   "metadata": {},
   "outputs": [],
   "source": [
    "skincare_tidak_cocok = {\n",
    "    'Sensitif': ['Ethanol', 'Alcohol Denat', 'Benzyl Alcohol', 'SLS', 'SLES'],\n",
    "    'Berminyak': ['Mineral Oil', 'Paraffin Oil', 'Petroleum Jelly', 'Petroleum Oil', 'Coconut Oil', 'Ethanol', 'Alcohol Denat', 'Benzyl Alcohol', 'B3', 'Niacinamide', 'Nicotinamide', 'Tranexamic Acid', 'Glycolic Acid', 'Ceramide'],\n",
    "    'Kering': ['Alcohol', 'Retinol', 'Benzoyl Peroxide', 'Glycolic Acid', 'Sulfate', 'Fragrance'],\n",
    "    'Normal': [],\n",
    "    'Kombinasi': [],\n",
    "    'Berjerawat': ['Vitamin C', 'Cocoa Butter', 'Cocoa Oil', 'SLS', 'Fragrance', 'Petroleum Jelly']\n",
    "}"
   ]
  },
  {
   "cell_type": "code",
   "execution_count": 21,
   "id": "3cdb781a-3116-4063-87bc-d8d0857a67f1",
   "metadata": {},
   "outputs": [],
   "source": [
    "# Data bahan skincare yang cocok digunakan secara bersamaan dan manfaatnya\n",
    "skincare_cocok_bersamaan = {\n",
    "    'Hyaluronic Acid + Retinol': 'Membuat Wajah Kenyal Dan Lembab',\n",
    "    'Niacinamide + Acid Serum': 'Dapat Memperbaiki Tekstur Kulit',\n",
    "    'Vitamin C + Vitamin E': 'Dapat Mencerahkan Kulit',\n",
    "    'Vitamin C + SPF': 'Dapat Melindungi dari Radikal Bebas',\n",
    "    'Niacinamide + Salicylic Acid': 'Dapat Menghilangkan Jerawat',\n",
    "    'Retinol + Peptide': 'Dapat Meningkatkan Produksi Kolagen',\n",
    "    'Ceramide + Hyaluronic Acid': 'Dapat Meningkatkan Produksi Kolagen',\n",
    "    'AHA + BHA': 'Dapat Mengikis Sel-Sel Kulit Mati',\n",
    "    'Retinol + Niacinamide': 'Dapat Mencegah Tanda-Tanda Penuaan',\n",
    "    'Retinol + Hyaluronic Acid': 'Dapat Membuat Kulit Halus, Bersih, dan Terhidrasi',\n",
    "    'AHA + BHA + Hyaluronic Acid': 'Memperhalus dan Melembabkan Kulit',\n",
    "    'Alpha Arbutin + Retinol': 'Mengatasi Masalah Anti-Aging dan Jerawat',\n",
    "    'AHA + BHA + Ceramide': 'Mengeksfoliasi dan Melembabkan Kulit'\n",
    "}"
   ]
  },
  {
   "cell_type": "code",
   "execution_count": 22,
   "id": "fdc7790d-a77c-4393-b303-3a8c1cf6460c",
   "metadata": {},
   "outputs": [],
   "source": [
    "# Data bahan skincare yang tidak cocok digunakan secara bersamaan dan resikonya\n",
    "skincare_tidak_cocok_bersamaan = {\n",
    "    'Retinol + Glycolic Acid': 'Kulit Iritasi, Kemerahan, Pengelupasan Berlebihan',\n",
    "    'Benzoyl Peroxide + Salicylic Acid': 'Kulit Iritasi, Kemerahan, Kekeringan',\n",
    "    'Vitamin C + AHA + BHA': 'Dapat Menonaktifkan Manfaat Kedua Bahan Tersebut (Tergantung pH)',\n",
    "    'Benzoyl Peroxide + Retinol': 'Kulit Iritasi, Efektivitas Retinol Tidak Maksimal',\n",
    "    'Retinol + Vitamin': 'Dapat Menonaktifkan Manfaat Kedua Bahan Tersebut dan Menyebabkan Irritasi'\n",
    "}"
   ]
  },
  {
   "cell_type": "code",
   "execution_count": 23,
   "id": "c6005214-5bad-495a-8f14-889f1ff01c8b",
   "metadata": {},
   "outputs": [],
   "source": [
    "# Konversi data bahan skincare cocok ke DataFrame\n",
    "df_cocok = pd.DataFrame.from_dict(skincare_cocok, orient='index').transpose()\n",
    "\n",
    "# Simpan DataFrame ke file CSV\n",
    "df_cocok.to_csv('skincare_cocok.csv', index=False)\n",
    "\n",
    "# Konversi data bahan skincare tidak cocok ke DataFrame\n",
    "df_tidak_cocok = pd.DataFrame.from_dict(skincare_tidak_cocok, orient='index').transpose()\n",
    "\n",
    "# Simpan DataFrame ke file CSV\n",
    "df_tidak_cocok.to_csv('skincare_tidak_cocok.csv', index=False)\n",
    "\n",
    "# Konversi data bahan skincare cocok bersamaan ke DataFrame\n",
    "df_cocok_bersamaan = pd.DataFrame.from_dict(skincare_cocok_bersamaan, orient='index', columns=['Manfaat'])\n",
    "\n",
    "# Simpan DataFrame ke file CSV\n",
    "df_cocok_bersamaan.to_csv('skincare_cocok_bersamaan.csv')\n",
    "\n",
    "# Konversi data bahan skincare tidak cocok bersamaan ke DataFrame\n",
    "df_tidak_cocok_bersamaan = pd.DataFrame.from_dict(skincare_tidak_cocok_bersamaan, orient='index', columns=['Resiko'])\n",
    "\n",
    "# Simpan DataFrame ke file CSV\n",
    "df_tidak_cocok_bersamaan.to_csv('skincare_tidak_cocok_bersamaan.csv')\n"
   ]
  },
  {
   "cell_type": "code",
   "execution_count": 24,
   "id": "720643a2-9517-4f6d-b2b7-93c849fefccb",
   "metadata": {},
   "outputs": [],
   "source": [
    "# Membuat fungsi untuk menampilkan resiko atau manfaat dari dua bahan skincare yang dipilih\n",
    "def resiko_manfaat_kombinasi(bahan1, bahan2, tipe_kulit):\n",
    "    if tipe_kulit in df_cocok.columns:\n",
    "        cocok = df_cocok[tipe_kulit].dropna().tolist()\n",
    "        tidak_cocok = df_tidak_cocok[tipe_kulit].dropna().tolist()\n",
    "\n",
    "        if bahan1 in cocok and bahan2 in cocok:\n",
    "            manfaat1 = df_cocok_bersamaan.loc[bahan1 + ' + ' + bahan2, 'Manfaat']\n",
    "            return f\"Kombinasi {bahan1} + {bahan2} cocok untuk kulit {tipe_kulit} dan dapat digunakan bersamaan dengan manfaat: {manfaat1}\"\n",
    "        elif (bahan1 in cocok and bahan2 in tidak_cocok) or (bahan1 in tidak_cocok and bahan2 in cocok):\n",
    "            resiko = \"Dapat Menimbulkan Resiko Tergantung Kombinasi\"\n",
    "            return f\"Kombinasi {bahan1} + {bahan2} cocok untuk kulit {tipe_kulit} tetapi harus dihindari saat digunakan bersamaan. Resiko: {resiko}\"\n",
    "        elif bahan1 in tidak_cocok and bahan2 in tidak_cocok:\n",
    "            resiko1 = df_tidak_cocok_bersamaan.loc[bahan1 + ' + ' + bahan2, 'Resiko']\n",
    "            return f\"Kombinasi {bahan1} + {bahan2} tidak cocok untuk kulit {tipe_kulit} dan harus dihindari saat digunakan bersamaan. Resiko: {resiko1}\"\n",
    "        else:\n",
    "            return \"Salah satu atau kedua bahan skincare tidak valid.\"\n",
    "    else:\n",
    "        return \"Tipe kulit tidak valid.\""
   ]
  },
  {
   "cell_type": "code",
   "execution_count": 31,
   "id": "195adccd-ba86-449b-9f72-49e0742ba027",
   "metadata": {},
   "outputs": [],
   "source": [
    "# Membuat fungsi untuk memberikan saran penggunaan selang-seling (selisih hari) bagi bahan skincare yang cocok dikombinasikan di kulit yang memiliki resiko\n",
    "def penggunaan_selang_seling(bahan1, bahan2, tipe_kulit):\n",
    "    if tipe_kulit in df_cocok.columns:\n",
    "        cocok = df_cocok[tipe_kulit].dropna().tolist()\n",
    "        tidak_cocok = df_tidak_cocok[tipe_kulit].dropna().tolist()\n",
    "\n",
    "        if (bahan1 in cocok and bahan2 in tidak_cocok) or (bahan1 in tidak_cocok and bahan2 in cocok):\n",
    "            return f\"Selang-seling penggunaan {bahan1} dan {bahan2} dapat membantu mengurangi resiko saat digunakan pada kulit {tipe_kulit}.\"\n",
    "        else:\n",
    "            return \"Tidak ada rekomendasi selang-seling yang diperlukan.\"\n",
    "    else:\n",
    "        return \"Tipe kulit tidak valid.\""
   ]
  },
  {
   "cell_type": "code",
   "execution_count": 32,
   "id": "e5847662-bb63-423b-ae1e-9238557b7804",
   "metadata": {},
   "outputs": [],
   "source": [
    "# Membuat fungsi untuk memberikan saran bahan skincare berdasarkan tipe kulit\n",
    "def saran_skincare(tipe_kulit):\n",
    "    if tipe_kulit in df_cocok.columns:\n",
    "        cocok = df_cocok[tipe_kulit].dropna().tolist()\n",
    "        tidak_cocok = df_tidak_cocok[tipe_kulit].dropna().tolist()\n",
    "        return f\"Bahan skincare cocok untuk kulit {tipe_kulit}: {', '.join(cocok)}\\nBahan skincare tidak cocok: {', '.join(tidak_cocok)}\"\n",
    "    else:\n",
    "        return \"Tipe kulit tidak valid.\""
   ]
  },
  {
   "cell_type": "code",
   "execution_count": 33,
   "id": "1fef1dff-7f58-4693-bea2-ec8ef63d4420",
   "metadata": {},
   "outputs": [],
   "source": [
    "# Membuat fungsi untuk memberikan saran dan larangan bahan skincare yang dipilih\n",
    "def saran_dan_larangan(bahan, tipe_kulit):\n",
    "    if bahan in df_cocok_bersamaan.index:\n",
    "        manfaat = df_cocok_bersamaan.loc[bahan, 'Manfaat']\n",
    "        resiko = df_tidak_cocok_bersamaan.loc[bahan, 'Resiko']\n",
    "        return f\"Bahan skincare {bahan} dapat digunakan bersamaan dengan manfaat: {manfaat}\\nResiko: {resiko}\"\n",
    "    else:\n",
    "        cocok = df_cocok[tipe_kulit].dropna().tolist()\n",
    "        tidak_cocok = df_tidak_cocok[tipe_kulit].dropna().tolist()\n",
    "        if bahan in cocok:\n",
    "            return f\"Bahan skincare {bahan} cocok untuk kulit {tipe_kulit}.\"\n",
    "        elif bahan in tidak_cocok:\n",
    "            return f\"Bahan skincare {bahan} tidak cocok untuk kulit {tipe_kulit}.\"\n",
    "        else:\n",
    "            return \"Bahan skincare tidak valid.\""
   ]
  },
  {
   "cell_type": "code",
   "execution_count": 35,
   "id": "b83716ae-6b93-43f9-98e4-6803db1eada9",
   "metadata": {},
   "outputs": [
    {
     "name": "stdout",
     "output_type": "stream",
     "text": [
      "Rekomendasi untuk kombinasi dua bahan skincare:\n",
      "Kombinasi Retinol + Ceramide cocok untuk kulit Kering tetapi harus dihindari saat digunakan bersamaan. Resiko: Dapat Menimbulkan Resiko Tergantung Kombinasi\n",
      "\n",
      "Saran selang-seling penggunaan bahan skincare:\n",
      "Selang-seling penggunaan Retinol dan Ceramide dapat membantu mengurangi resiko saat digunakan pada kulit Kering.\n",
      "\n",
      "Saran dan larangan bahan skincare yang dipilih:\n",
      "Bahan skincare Retinol tidak cocok untuk kulit Kering.\n",
      "\n",
      "Saran bahan skincare untuk tipe kulit:\n",
      "Bahan skincare cocok untuk kulit Kering: Glycolic Acid, Lactic Acid, Aloe Vera Extract, Ceramide, Hyaluronic Acid\n",
      "Bahan skincare tidak cocok: Alcohol, Retinol, Benzoyl Peroxide, Glycolic Acid, Sulfate, Fragrance\n"
     ]
    }
   ],
   "source": [
    "# Contoh penggunaan\n",
    "tipe_kulit = 'Kering'\n",
    "bahan_skincare1 = 'Retinol'\n",
    "bahan_skincare2 = 'Ceramide'\n",
    "\n",
    "print(\"Rekomendasi untuk kombinasi dua bahan skincare:\")\n",
    "print(resiko_manfaat_kombinasi(bahan_skincare1, bahan_skincare2, tipe_kulit))\n",
    "\n",
    "print(\"\\nSaran selang-seling penggunaan bahan skincare:\")\n",
    "print(saran_selang_seling(bahan_skincare1, bahan_skincare2, tipe_kulit))\n",
    "\n",
    "print(\"\\nSaran dan larangan bahan skincare yang dipilih:\")\n",
    "print(saran_dan_larangan(bahan_skincare1, tipe_kulit))\n",
    "\n",
    "print(\"\\nSaran bahan skincare untuk tipe kulit:\")\n",
    "print(saran_skincare(tipe_kulit))"
   ]
  },
  {
   "cell_type": "code",
   "execution_count": null,
   "id": "f0b965fe-a592-470c-b5ac-5f3a2fb6386d",
   "metadata": {},
   "outputs": [],
   "source": []
  },
  {
   "cell_type": "code",
   "execution_count": null,
   "id": "bf7d0f13-0bd6-4bc1-80f4-2561e9c8bd53",
   "metadata": {},
   "outputs": [],
   "source": []
  },
  {
   "cell_type": "code",
   "execution_count": null,
   "id": "6c854c76-a962-44ad-bd80-4fc9c817cc77",
   "metadata": {},
   "outputs": [],
   "source": []
  }
 ],
 "metadata": {
  "kernelspec": {
   "display_name": "Python 3 (ipykernel)",
   "language": "python",
   "name": "python3"
  },
  "language_info": {
   "codemirror_mode": {
    "name": "ipython",
    "version": 3
   },
   "file_extension": ".py",
   "mimetype": "text/x-python",
   "name": "python",
   "nbconvert_exporter": "python",
   "pygments_lexer": "ipython3",
   "version": "3.12.0"
  }
 },
 "nbformat": 4,
 "nbformat_minor": 5
}
